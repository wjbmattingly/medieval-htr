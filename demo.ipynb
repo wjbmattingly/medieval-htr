{
 "cells": [
  {
   "cell_type": "code",
   "execution_count": 13,
   "metadata": {},
   "outputs": [
    {
     "ename": "AttributeError",
     "evalue": "module 'huggingface_hub.constants' has no attribute 'HF_HOME'",
     "output_type": "error",
     "traceback": [
      "\u001b[0;31m---------------------------------------------------------------------------\u001b[0m",
      "\u001b[0;31mAttributeError\u001b[0m                            Traceback (most recent call last)",
      "\u001b[1;32m/Users/wjbmattingly/projects/medieval-htr/demo.ipynb Cell 1\u001b[0m line \u001b[0;36m6\n\u001b[1;32m      <a href='vscode-notebook-cell:/Users/wjbmattingly/projects/medieval-htr/demo.ipynb#W0sZmlsZQ%3D%3D?line=3'>4</a>\u001b[0m \u001b[39mimport\u001b[39;00m \u001b[39mnumpy\u001b[39;00m \u001b[39mas\u001b[39;00m \u001b[39mnp\u001b[39;00m\n\u001b[1;32m      <a href='vscode-notebook-cell:/Users/wjbmattingly/projects/medieval-htr/demo.ipynb#W0sZmlsZQ%3D%3D?line=4'>5</a>\u001b[0m \u001b[39mimport\u001b[39;00m \u001b[39mmatplotlib\u001b[39;00m\u001b[39m.\u001b[39;00m\u001b[39mpyplot\u001b[39;00m \u001b[39mas\u001b[39;00m \u001b[39mplt\u001b[39;00m\n\u001b[0;32m----> <a href='vscode-notebook-cell:/Users/wjbmattingly/projects/medieval-htr/demo.ipynb#W0sZmlsZQ%3D%3D?line=5'>6</a>\u001b[0m \u001b[39mfrom\u001b[39;00m \u001b[39mtransformers\u001b[39;00m \u001b[39mimport\u001b[39;00m TrOCRProcessor, VisionEncoderDecoderModel\n\u001b[1;32m      <a href='vscode-notebook-cell:/Users/wjbmattingly/projects/medieval-htr/demo.ipynb#W0sZmlsZQ%3D%3D?line=6'>7</a>\u001b[0m \u001b[39mfrom\u001b[39;00m \u001b[39mPIL\u001b[39;00m \u001b[39mimport\u001b[39;00m Image\n",
      "File \u001b[0;32m/Applications/anaconda3/envs/bow/lib/python3.10/site-packages/transformers/__init__.py:26\u001b[0m\n\u001b[1;32m     23\u001b[0m \u001b[39mfrom\u001b[39;00m \u001b[39mtyping\u001b[39;00m \u001b[39mimport\u001b[39;00m TYPE_CHECKING\n\u001b[1;32m     25\u001b[0m \u001b[39m# Check the dependencies satisfy the minimal versions required.\u001b[39;00m\n\u001b[0;32m---> 26\u001b[0m \u001b[39mfrom\u001b[39;00m \u001b[39m.\u001b[39;00m \u001b[39mimport\u001b[39;00m dependency_versions_check\n\u001b[1;32m     27\u001b[0m \u001b[39mfrom\u001b[39;00m \u001b[39m.\u001b[39;00m\u001b[39mutils\u001b[39;00m \u001b[39mimport\u001b[39;00m (\n\u001b[1;32m     28\u001b[0m     OptionalDependencyNotAvailable,\n\u001b[1;32m     29\u001b[0m     _LazyModule,\n\u001b[0;32m   (...)\u001b[0m\n\u001b[1;32m     48\u001b[0m     logging,\n\u001b[1;32m     49\u001b[0m )\n\u001b[1;32m     52\u001b[0m logger \u001b[39m=\u001b[39m logging\u001b[39m.\u001b[39mget_logger(\u001b[39m__name__\u001b[39m)  \u001b[39m# pylint: disable=invalid-name\u001b[39;00m\n",
      "File \u001b[0;32m/Applications/anaconda3/envs/bow/lib/python3.10/site-packages/transformers/dependency_versions_check.py:16\u001b[0m\n\u001b[1;32m      1\u001b[0m \u001b[39m# Copyright 2020 The HuggingFace Team. All rights reserved.\u001b[39;00m\n\u001b[1;32m      2\u001b[0m \u001b[39m#\u001b[39;00m\n\u001b[1;32m      3\u001b[0m \u001b[39m# Licensed under the Apache License, Version 2.0 (the \"License\");\u001b[39;00m\n\u001b[0;32m   (...)\u001b[0m\n\u001b[1;32m     12\u001b[0m \u001b[39m# See the License for the specific language governing permissions and\u001b[39;00m\n\u001b[1;32m     13\u001b[0m \u001b[39m# limitations under the License.\u001b[39;00m\n\u001b[1;32m     15\u001b[0m \u001b[39mfrom\u001b[39;00m \u001b[39m.\u001b[39;00m\u001b[39mdependency_versions_table\u001b[39;00m \u001b[39mimport\u001b[39;00m deps\n\u001b[0;32m---> 16\u001b[0m \u001b[39mfrom\u001b[39;00m \u001b[39m.\u001b[39;00m\u001b[39mutils\u001b[39;00m\u001b[39m.\u001b[39;00m\u001b[39mversions\u001b[39;00m \u001b[39mimport\u001b[39;00m require_version, require_version_core\n\u001b[1;32m     19\u001b[0m \u001b[39m# define which module versions we always want to check at run time\u001b[39;00m\n\u001b[1;32m     20\u001b[0m \u001b[39m# (usually the ones defined in `install_requires` in setup.py)\u001b[39;00m\n\u001b[1;32m     21\u001b[0m \u001b[39m#\u001b[39;00m\n\u001b[1;32m     22\u001b[0m \u001b[39m# order specific notes:\u001b[39;00m\n\u001b[1;32m     23\u001b[0m \u001b[39m# - tqdm must be checked before tokenizers\u001b[39;00m\n\u001b[1;32m     25\u001b[0m pkgs_to_check_at_runtime \u001b[39m=\u001b[39m [\n\u001b[1;32m     26\u001b[0m     \u001b[39m\"\u001b[39m\u001b[39mpython\u001b[39m\u001b[39m\"\u001b[39m,\n\u001b[1;32m     27\u001b[0m     \u001b[39m\"\u001b[39m\u001b[39mtqdm\u001b[39m\u001b[39m\"\u001b[39m,\n\u001b[0;32m   (...)\u001b[0m\n\u001b[1;32m     37\u001b[0m     \u001b[39m\"\u001b[39m\u001b[39mpyyaml\u001b[39m\u001b[39m\"\u001b[39m,\n\u001b[1;32m     38\u001b[0m ]\n",
      "File \u001b[0;32m/Applications/anaconda3/envs/bow/lib/python3.10/site-packages/transformers/utils/__init__.py:63\u001b[0m\n\u001b[1;32m     25\u001b[0m \u001b[39mfrom\u001b[39;00m \u001b[39m.\u001b[39;00m\u001b[39mdoc\u001b[39;00m \u001b[39mimport\u001b[39;00m (\n\u001b[1;32m     26\u001b[0m     add_code_sample_docstrings,\n\u001b[1;32m     27\u001b[0m     add_end_docstrings,\n\u001b[0;32m   (...)\u001b[0m\n\u001b[1;32m     31\u001b[0m     replace_return_docstrings,\n\u001b[1;32m     32\u001b[0m )\n\u001b[1;32m     33\u001b[0m \u001b[39mfrom\u001b[39;00m \u001b[39m.\u001b[39;00m\u001b[39mgeneric\u001b[39;00m \u001b[39mimport\u001b[39;00m (\n\u001b[1;32m     34\u001b[0m     ContextManagers,\n\u001b[1;32m     35\u001b[0m     ExplicitEnum,\n\u001b[0;32m   (...)\u001b[0m\n\u001b[1;32m     61\u001b[0m     working_or_temp_dir,\n\u001b[1;32m     62\u001b[0m )\n\u001b[0;32m---> 63\u001b[0m \u001b[39mfrom\u001b[39;00m \u001b[39m.\u001b[39;00m\u001b[39mhub\u001b[39;00m \u001b[39mimport\u001b[39;00m (\n\u001b[1;32m     64\u001b[0m     CLOUDFRONT_DISTRIB_PREFIX,\n\u001b[1;32m     65\u001b[0m     HF_MODULES_CACHE,\n\u001b[1;32m     66\u001b[0m     HUGGINGFACE_CO_PREFIX,\n\u001b[1;32m     67\u001b[0m     HUGGINGFACE_CO_RESOLVE_ENDPOINT,\n\u001b[1;32m     68\u001b[0m     PYTORCH_PRETRAINED_BERT_CACHE,\n\u001b[1;32m     69\u001b[0m     PYTORCH_TRANSFORMERS_CACHE,\n\u001b[1;32m     70\u001b[0m     S3_BUCKET_PREFIX,\n\u001b[1;32m     71\u001b[0m     TRANSFORMERS_CACHE,\n\u001b[1;32m     72\u001b[0m     TRANSFORMERS_DYNAMIC_MODULE_NAME,\n\u001b[1;32m     73\u001b[0m     EntryNotFoundError,\n\u001b[1;32m     74\u001b[0m     PushInProgress,\n\u001b[1;32m     75\u001b[0m     PushToHubMixin,\n\u001b[1;32m     76\u001b[0m     RepositoryNotFoundError,\n\u001b[1;32m     77\u001b[0m     RevisionNotFoundError,\n\u001b[1;32m     78\u001b[0m     cached_file,\n\u001b[1;32m     79\u001b[0m     default_cache_path,\n\u001b[1;32m     80\u001b[0m     define_sagemaker_information,\n\u001b[1;32m     81\u001b[0m     download_url,\n\u001b[1;32m     82\u001b[0m     extract_commit_hash,\n\u001b[1;32m     83\u001b[0m     get_cached_models,\n\u001b[1;32m     84\u001b[0m     get_file_from_repo,\n\u001b[1;32m     85\u001b[0m     has_file,\n\u001b[1;32m     86\u001b[0m     http_user_agent,\n\u001b[1;32m     87\u001b[0m     is_offline_mode,\n\u001b[1;32m     88\u001b[0m     is_remote_url,\n\u001b[1;32m     89\u001b[0m     move_cache,\n\u001b[1;32m     90\u001b[0m     send_example_telemetry,\n\u001b[1;32m     91\u001b[0m     try_to_load_from_cache,\n\u001b[1;32m     92\u001b[0m )\n\u001b[1;32m     93\u001b[0m \u001b[39mfrom\u001b[39;00m \u001b[39m.\u001b[39;00m\u001b[39mimport_utils\u001b[39;00m \u001b[39mimport\u001b[39;00m (\n\u001b[1;32m     94\u001b[0m     ACCELERATE_MIN_VERSION,\n\u001b[1;32m     95\u001b[0m     ENV_VARS_TRUE_AND_AUTO_VALUES,\n\u001b[0;32m   (...)\u001b[0m\n\u001b[1;32m    204\u001b[0m     torch_only_method,\n\u001b[1;32m    205\u001b[0m )\n\u001b[1;32m    206\u001b[0m \u001b[39mfrom\u001b[39;00m \u001b[39m.\u001b[39;00m\u001b[39mpeft_utils\u001b[39;00m \u001b[39mimport\u001b[39;00m (\n\u001b[1;32m    207\u001b[0m     ADAPTER_CONFIG_NAME,\n\u001b[1;32m    208\u001b[0m     ADAPTER_SAFE_WEIGHTS_NAME,\n\u001b[0;32m   (...)\u001b[0m\n\u001b[1;32m    211\u001b[0m     find_adapter_config_file,\n\u001b[1;32m    212\u001b[0m )\n",
      "File \u001b[0;32m/Applications/anaconda3/envs/bow/lib/python3.10/site-packages/transformers/utils/hub.py:117\u001b[0m\n\u001b[1;32m    108\u001b[0m     logger\u001b[39m.\u001b[39mwarning(\n\u001b[1;32m    109\u001b[0m         \u001b[39m\"\u001b[39m\u001b[39mIn Transformers v4.22.0, the default path to cache downloaded models changed from\u001b[39m\u001b[39m\"\u001b[39m\n\u001b[1;32m    110\u001b[0m         \u001b[39m\"\u001b[39m\u001b[39m \u001b[39m\u001b[39m'\u001b[39m\u001b[39m~/.cache/torch/transformers\u001b[39m\u001b[39m'\u001b[39m\u001b[39m to \u001b[39m\u001b[39m'\u001b[39m\u001b[39m~/.cache/huggingface/hub\u001b[39m\u001b[39m'\u001b[39m\u001b[39m. Since you don\u001b[39m\u001b[39m'\u001b[39m\u001b[39mt seem to have\u001b[39m\u001b[39m\"\u001b[39m\n\u001b[0;32m   (...)\u001b[0m\n\u001b[1;32m    113\u001b[0m         \u001b[39m\"\u001b[39m\u001b[39m only see this message once.\u001b[39m\u001b[39m\"\u001b[39m\n\u001b[1;32m    114\u001b[0m     )\n\u001b[1;32m    115\u001b[0m     shutil\u001b[39m.\u001b[39mmove(old_default_cache_path, constants\u001b[39m.\u001b[39mHF_HUB_CACHE)\n\u001b[0;32m--> 117\u001b[0m HF_MODULES_CACHE \u001b[39m=\u001b[39m os\u001b[39m.\u001b[39mgetenv(\u001b[39m\"\u001b[39m\u001b[39mHF_MODULES_CACHE\u001b[39m\u001b[39m\"\u001b[39m, os\u001b[39m.\u001b[39mpath\u001b[39m.\u001b[39mjoin(constants\u001b[39m.\u001b[39;49mHF_HOME, \u001b[39m\"\u001b[39m\u001b[39mmodules\u001b[39m\u001b[39m\"\u001b[39m))\n\u001b[1;32m    118\u001b[0m TRANSFORMERS_DYNAMIC_MODULE_NAME \u001b[39m=\u001b[39m \u001b[39m\"\u001b[39m\u001b[39mtransformers_modules\u001b[39m\u001b[39m\"\u001b[39m\n\u001b[1;32m    119\u001b[0m SESSION_ID \u001b[39m=\u001b[39m uuid4()\u001b[39m.\u001b[39mhex\n",
      "\u001b[0;31mAttributeError\u001b[0m: module 'huggingface_hub.constants' has no attribute 'HF_HOME'"
     ]
    }
   ],
   "source": [
    "from doc_ufcn import models\n",
    "from doc_ufcn.main import DocUFCN\n",
    "import cv2\n",
    "import numpy as np\n",
    "import matplotlib.pyplot as plt\n",
    "from transformers import TrOCRProcessor, VisionEncoderDecoderModel\n",
    "from PIL import Image"
   ]
  },
  {
   "cell_type": "code",
   "execution_count": null,
   "metadata": {},
   "outputs": [],
   "source": [
    "processor = TrOCRProcessor.from_pretrained('medieval-data/trocr-medieval-latin-caroline/')\n",
    "model = VisionEncoderDecoderModel.from_pretrained('medieval-data/trocr-medieval-latin-caroline/')"
   ]
  },
  {
   "cell_type": "code",
   "execution_count": 6,
   "metadata": {},
   "outputs": [
    {
     "data": {
      "text/plain": [
       "array([[[238, 237, 235],\n",
       "        [238, 237, 235],\n",
       "        [238, 237, 235],\n",
       "        ...,\n",
       "        [238, 237, 235],\n",
       "        [238, 237, 235],\n",
       "        [238, 237, 235]],\n",
       "\n",
       "       [[238, 237, 235],\n",
       "        [238, 237, 235],\n",
       "        [238, 237, 235],\n",
       "        ...,\n",
       "        [238, 237, 235],\n",
       "        [238, 237, 235],\n",
       "        [238, 237, 235]],\n",
       "\n",
       "       [[238, 237, 235],\n",
       "        [238, 237, 235],\n",
       "        [238, 237, 235],\n",
       "        ...,\n",
       "        [238, 237, 235],\n",
       "        [238, 237, 235],\n",
       "        [238, 237, 235]],\n",
       "\n",
       "       ...,\n",
       "\n",
       "       [[239, 238, 236],\n",
       "        [238, 237, 235],\n",
       "        [238, 237, 235],\n",
       "        ...,\n",
       "        [238, 237, 235],\n",
       "        [238, 237, 235],\n",
       "        [238, 237, 235]],\n",
       "\n",
       "       [[239, 238, 236],\n",
       "        [238, 237, 235],\n",
       "        [238, 237, 235],\n",
       "        ...,\n",
       "        [238, 237, 235],\n",
       "        [238, 237, 235],\n",
       "        [238, 237, 235]],\n",
       "\n",
       "       [[239, 238, 236],\n",
       "        [238, 237, 235],\n",
       "        [238, 237, 235],\n",
       "        ...,\n",
       "        [238, 237, 235],\n",
       "        [238, 237, 235],\n",
       "        [238, 237, 235]]], dtype=uint8)"
      ]
     },
     "execution_count": 6,
     "metadata": {},
     "output_type": "execute_result"
    }
   ],
   "source": [
    "IMAGE_PATH = \"e-codices_bbb-0264_084_small.jpg\"\n",
    "image = cv2.cvtColor(cv2.imread(IMAGE_PATH), cv2.COLOR_BGR2RGB)\n",
    "image"
   ]
  },
  {
   "cell_type": "code",
   "execution_count": 7,
   "metadata": {},
   "outputs": [
    {
     "name": "stderr",
     "output_type": "stream",
     "text": [
      "parameters.yml: 100%|██████████| 151/151 [00:00<00:00, 554kB/s]\n",
      "model.pth: 100%|██████████| 49.2M/49.2M [00:01<00:00, 44.4MB/s]\n"
     ]
    }
   ],
   "source": [
    "model_path, parameters = models.download_model('doc-ufcn-generic-historical-line')\n",
    "\n",
    "model = DocUFCN(len(parameters['classes']), parameters['input_size'], 'cpu')\n",
    "model.load(model_path, parameters['mean'], parameters['std'])"
   ]
  },
  {
   "cell_type": "code",
   "execution_count": 8,
   "metadata": {},
   "outputs": [],
   "source": [
    "detected_polygons, probabilities, mask, overlap = model.predict(\n",
    "    image, raw_output=True, mask_output=True, overlap_output=True\n",
    ")"
   ]
  },
  {
   "cell_type": "code",
   "execution_count": 12,
   "metadata": {},
   "outputs": [
    {
     "ename": "ValueError",
     "evalue": "cannot reshape array of size 1 into shape (1,2)",
     "output_type": "error",
     "traceback": [
      "\u001b[0;31m---------------------------------------------------------------------------\u001b[0m",
      "\u001b[0;31mValueError\u001b[0m                                Traceback (most recent call last)",
      "\u001b[1;32m/Users/wjbmattingly/projects/medieval-htr/demo.ipynb Cell 5\u001b[0m line \u001b[0;36m8\n\u001b[1;32m      <a href='vscode-notebook-cell:/Users/wjbmattingly/projects/medieval-htr/demo.ipynb#W5sZmlsZQ%3D%3D?line=4'>5</a>\u001b[0m \u001b[39mfor\u001b[39;00m polygon \u001b[39min\u001b[39;00m detected_polygons:\n\u001b[1;32m      <a href='vscode-notebook-cell:/Users/wjbmattingly/projects/medieval-htr/demo.ipynb#W5sZmlsZQ%3D%3D?line=5'>6</a>\u001b[0m     \u001b[39m# Convert polygon points to integers\u001b[39;00m\n\u001b[1;32m      <a href='vscode-notebook-cell:/Users/wjbmattingly/projects/medieval-htr/demo.ipynb#W5sZmlsZQ%3D%3D?line=6'>7</a>\u001b[0m     pts \u001b[39m=\u001b[39m np\u001b[39m.\u001b[39marray(polygon, np\u001b[39m.\u001b[39mint32)\n\u001b[0;32m----> <a href='vscode-notebook-cell:/Users/wjbmattingly/projects/medieval-htr/demo.ipynb#W5sZmlsZQ%3D%3D?line=7'>8</a>\u001b[0m     pts \u001b[39m=\u001b[39m pts\u001b[39m.\u001b[39;49mreshape((\u001b[39m-\u001b[39;49m\u001b[39m1\u001b[39;49m, \u001b[39m1\u001b[39;49m, \u001b[39m2\u001b[39;49m))\n\u001b[1;32m     <a href='vscode-notebook-cell:/Users/wjbmattingly/projects/medieval-htr/demo.ipynb#W5sZmlsZQ%3D%3D?line=9'>10</a>\u001b[0m     \u001b[39m# Draw the polygon\u001b[39;00m\n\u001b[1;32m     <a href='vscode-notebook-cell:/Users/wjbmattingly/projects/medieval-htr/demo.ipynb#W5sZmlsZQ%3D%3D?line=10'>11</a>\u001b[0m     cv2\u001b[39m.\u001b[39mpolylines(image_with_polygons, [pts], isClosed\u001b[39m=\u001b[39m\u001b[39mTrue\u001b[39;00m, color\u001b[39m=\u001b[39m(\u001b[39m255\u001b[39m, \u001b[39m0\u001b[39m, \u001b[39m0\u001b[39m), thickness\u001b[39m=\u001b[39m\u001b[39m2\u001b[39m)\n",
      "\u001b[0;31mValueError\u001b[0m: cannot reshape array of size 1 into shape (1,2)"
     ]
    }
   ],
   "source": [
    "# Create a copy of the original image to draw on\n",
    "image_with_polygons = image.copy()\n",
    "\n",
    "# Draw each polygon on the copy of the image\n",
    "for polygon in detected_polygons:\n",
    "    # Convert polygon points to integers\n",
    "    pts = np.array(polygon, np.int32)\n",
    "    pts = pts.reshape((-1, 1, 2))\n",
    "    \n",
    "    # Draw the polygon\n",
    "    cv2.polylines(image_with_polygons, [pts], isClosed=True, color=(255, 0, 0), thickness=2)\n",
    "\n",
    "# Combine the original image and the image with polygons side by side\n",
    "combined_image = np.hstack((image, image_with_polygons))\n",
    "\n",
    "# Display the combined image\n",
    "plt.figure(figsize=(12, 6))\n",
    "plt.imshow(combined_image)\n",
    "plt.axis('off')  # Turn off axis numbers and ticks\n",
    "plt.show()"
   ]
  },
  {
   "cell_type": "code",
   "execution_count": null,
   "metadata": {},
   "outputs": [],
   "source": [
    "from transformers import TrOCRProcessor, VisionEncoderDecoderModel\n",
    "from PIL import Image"
   ]
  },
  {
   "cell_type": "code",
   "execution_count": null,
   "metadata": {},
   "outputs": [],
   "source": [
    "processor = TrOCRProcessor.from_pretrained('medieval-data/trocr-medieval-latin-caroline/')\n",
    "model = VisionEncoderDecoderModel.from_pretrained('medieval-data/trocr-medieval-latin-caroline/')\n",
    "pixel_values = processor(images=image, return_tensors=\"pt\").pixel_values\n",
    "\n",
    "generated_ids = model.generate(pixel_values)\n",
    "generated_text = processor.batch_decode(generated_ids, skip_special_tokens=True)[0]"
   ]
  }
 ],
 "metadata": {
  "kernelspec": {
   "display_name": "bow",
   "language": "python",
   "name": "python3"
  },
  "language_info": {
   "codemirror_mode": {
    "name": "ipython",
    "version": 3
   },
   "file_extension": ".py",
   "mimetype": "text/x-python",
   "name": "python",
   "nbconvert_exporter": "python",
   "pygments_lexer": "ipython3",
   "version": "3.10.14"
  }
 },
 "nbformat": 4,
 "nbformat_minor": 2
}
